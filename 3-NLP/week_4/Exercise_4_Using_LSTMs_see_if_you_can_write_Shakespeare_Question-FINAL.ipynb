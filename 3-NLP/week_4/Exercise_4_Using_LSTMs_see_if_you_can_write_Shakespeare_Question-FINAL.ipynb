{
 "cells": [
  {
   "cell_type": "code",
   "execution_count": 1,
   "metadata": {
    "colab": {},
    "colab_type": "code",
    "id": "BOwsuGQQY9OL"
   },
   "outputs": [],
   "source": [
    "# ATTENTION: Please do not alter any of the provided code in the exercise. Only add your own code where indicated\n",
    "# ATTENTION: Please do not add or remove any cells in the exercise. The grader will check specific cells based on the cell position.\n",
    "# ATTENTION: Please use the provided epoch values when training.\n",
    "\n",
    "from tensorflow.keras.preprocessing.sequence import pad_sequences\n",
    "from tensorflow.keras.layers import Embedding, LSTM, Dense, Dropout, Bidirectional\n",
    "from tensorflow.keras.preprocessing.text import Tokenizer\n",
    "from tensorflow.keras.models import Sequential\n",
    "from tensorflow.keras.optimizers import Adam\n",
    "from os import getcwd\n",
    "### YOUR CODE HERE\n",
    "# Figure out how to import regularizers\n",
    "###\n",
    "from tensorflow.keras import regularizers\n",
    "import tensorflow.keras.utils as ku \n",
    "import numpy as np "
   ]
  },
  {
   "cell_type": "code",
   "execution_count": 2,
   "metadata": {
    "colab": {},
    "colab_type": "code",
    "id": "PRnDnCW-Z7qv"
   },
   "outputs": [],
   "source": [
    "tokenizer = Tokenizer()\n",
    "path_sonnets = f\"{getcwd()}/../tmp2/sonnets.txt\"\n",
    "data = open(path_sonnets).read()\n",
    "\n",
    "corpus = data.lower().split(\"\\n\")\n",
    "\n",
    "\n",
    "tokenizer.fit_on_texts(corpus)\n",
    "total_words = len(tokenizer.word_index) + 1\n",
    "\n",
    "# create input sequences using list of tokens\n",
    "input_sequences = []\n",
    "for line in corpus:\n",
    "\ttoken_list = tokenizer.texts_to_sequences([line])[0]\n",
    "\tfor i in range(1, len(token_list)):\n",
    "\t\tn_gram_sequence = token_list[:i+1]\n",
    "\t\tinput_sequences.append(n_gram_sequence)\n",
    "\n",
    "\n",
    "# pad sequences \n",
    "max_sequence_len = max([len(x) for x in input_sequences])\n",
    "input_sequences = np.array(pad_sequences(input_sequences, maxlen=max_sequence_len, padding='pre'))\n",
    "\n",
    "# create predictors and label\n",
    "predictors, label = input_sequences[:,:-1],input_sequences[:,-1]\n",
    "\n",
    "label = ku.to_categorical(label, num_classes=total_words)"
   ]
  },
  {
   "cell_type": "code",
   "execution_count": 3,
   "metadata": {
    "colab": {},
    "colab_type": "code",
    "id": "w9vH8Y59ajYL"
   },
   "outputs": [
    {
     "name": "stdout",
     "output_type": "stream",
     "text": [
      "Model: \"sequential\"\n",
      "_________________________________________________________________\n",
      "Layer (type)                 Output Shape              Param #   \n",
      "=================================================================\n",
      "embedding (Embedding)        (None, 10, 100)           321100    \n",
      "_________________________________________________________________\n",
      "bidirectional (Bidirectional (None, 10, 300)           301200    \n",
      "_________________________________________________________________\n",
      "dropout (Dropout)            (None, 10, 300)           0         \n",
      "_________________________________________________________________\n",
      "lstm_1 (LSTM)                (None, 100)               160400    \n",
      "_________________________________________________________________\n",
      "dense (Dense)                (None, 1605)              162105    \n",
      "_________________________________________________________________\n",
      "dense_1 (Dense)              (None, 3211)              5156866   \n",
      "=================================================================\n",
      "Total params: 6,101,671\n",
      "Trainable params: 6,101,671\n",
      "Non-trainable params: 0\n",
      "_________________________________________________________________\n",
      "None\n"
     ]
    }
   ],
   "source": [
    "model = Sequential()\n",
    "model.add(Embedding(total_words,\n",
    "                    100,\n",
    "                    input_length=max_sequence_len-1))# Your Embedding Layer)\n",
    "model.add(Bidirectional(LSTM(150, return_sequences=True)))# An LSTM Layer)\n",
    "model.add(Dropout(0.2))# A dropout layer)\n",
    "model.add(LSTM(100))# Another LSTM Layer)\n",
    "model.add(Dense(total_words/2, kernel_regularizer='l2'))# A Dense Layer including regularizers)\n",
    "model.add(Dense(total_words, activation=\"softmax\"))# A Dense Layer)\n",
    "# Pick an optimizer\n",
    "model.compile(optimizer='adam', \n",
    "              loss = 'categorical_crossentropy',\n",
    "              metrics=[\"accuracy\"]\n",
    "             )\n",
    "          # Pick a loss function and an optimizer)\n",
    "print(model.summary())\n"
   ]
  },
  {
   "cell_type": "code",
   "execution_count": 4,
   "metadata": {
    "colab": {},
    "colab_type": "code",
    "id": "AIg2f1HBxqof"
   },
   "outputs": [
    {
     "name": "stdout",
     "output_type": "stream",
     "text": [
      "Train on 15462 samples\n",
      "Epoch 1/50\n",
      "15462/15462 [==============================] - 22s 1ms/sample - loss: 7.3395 - accuracy: 0.0215\n",
      "Epoch 2/50\n",
      "15462/15462 [==============================] - 9s 576us/sample - loss: 6.5622 - accuracy: 0.0229\n",
      "Epoch 3/50\n",
      "15462/15462 [==============================] - 9s 588us/sample - loss: 6.4568 - accuracy: 0.0255\n",
      "Epoch 4/50\n",
      "15462/15462 [==============================] - 9s 570us/sample - loss: 6.3498 - accuracy: 0.0316\n",
      "Epoch 5/50\n",
      "15462/15462 [==============================] - 9s 575us/sample - loss: 6.2598 - accuracy: 0.0354\n",
      "Epoch 6/50\n",
      "15462/15462 [==============================] - 9s 569us/sample - loss: 6.1832 - accuracy: 0.0387\n",
      "Epoch 7/50\n",
      "15462/15462 [==============================] - 9s 556us/sample - loss: 6.0786 - accuracy: 0.0449\n",
      "Epoch 8/50\n",
      "15462/15462 [==============================] - 9s 556us/sample - loss: 5.9570 - accuracy: 0.0501\n",
      "Epoch 9/50\n",
      "15462/15462 [==============================] - 9s 575us/sample - loss: 5.8527 - accuracy: 0.0556\n",
      "Epoch 10/50\n",
      "15462/15462 [==============================] - 9s 556us/sample - loss: 5.7668 - accuracy: 0.0595\n",
      "Epoch 11/50\n",
      "15462/15462 [==============================] - 9s 550us/sample - loss: 5.6590 - accuracy: 0.0640\n",
      "Epoch 12/50\n",
      "15462/15462 [==============================] - 9s 557us/sample - loss: 5.5612 - accuracy: 0.0666\n",
      "Epoch 13/50\n",
      "15462/15462 [==============================] - 9s 569us/sample - loss: 5.4572 - accuracy: 0.0717\n",
      "Epoch 14/50\n",
      "15462/15462 [==============================] - 9s 563us/sample - loss: 5.3641 - accuracy: 0.0764\n",
      "Epoch 15/50\n",
      "15462/15462 [==============================] - 9s 563us/sample - loss: 5.2505 - accuracy: 0.0854\n",
      "Epoch 16/50\n",
      "15462/15462 [==============================] - 9s 576us/sample - loss: 5.1409 - accuracy: 0.0870\n",
      "Epoch 17/50\n",
      "15462/15462 [==============================] - 9s 575us/sample - loss: 5.0413 - accuracy: 0.0967\n",
      "Epoch 18/50\n",
      "15462/15462 [==============================] - 8s 537us/sample - loss: 4.9312 - accuracy: 0.1018\n",
      "Epoch 19/50\n",
      "15462/15462 [==============================] - 9s 556us/sample - loss: 4.8272 - accuracy: 0.1090\n",
      "Epoch 20/50\n",
      "15462/15462 [==============================] - 9s 551us/sample - loss: 4.7310 - accuracy: 0.1123\n",
      "Epoch 21/50\n",
      "15462/15462 [==============================] - 9s 557us/sample - loss: 4.6205 - accuracy: 0.1279\n",
      "Epoch 22/50\n",
      "15462/15462 [==============================] - 8s 549us/sample - loss: 4.5078 - accuracy: 0.1312\n",
      "Epoch 23/50\n",
      "15462/15462 [==============================] - 8s 537us/sample - loss: 4.4057 - accuracy: 0.1466\n",
      "Epoch 24/50\n",
      "15462/15462 [==============================] - 9s 563us/sample - loss: 4.2956 - accuracy: 0.1606\n",
      "Epoch 25/50\n",
      "15462/15462 [==============================] - 9s 562us/sample - loss: 4.1824 - accuracy: 0.1768\n",
      "Epoch 26/50\n",
      "15462/15462 [==============================] - 9s 570us/sample - loss: 4.0705 - accuracy: 0.1937\n",
      "Epoch 27/50\n",
      "15462/15462 [==============================] - 9s 563us/sample - loss: 3.9594 - accuracy: 0.2181\n",
      "Epoch 28/50\n",
      "15462/15462 [==============================] - 9s 557us/sample - loss: 3.8333 - accuracy: 0.2361\n",
      "Epoch 29/50\n",
      "15462/15462 [==============================] - 9s 557us/sample - loss: 3.7096 - accuracy: 0.2570\n",
      "Epoch 30/50\n",
      "15462/15462 [==============================] - 8s 537us/sample - loss: 3.6115 - accuracy: 0.2748\n",
      "Epoch 31/50\n",
      "15462/15462 [==============================] - 8s 531us/sample - loss: 3.4945 - accuracy: 0.3015\n",
      "Epoch 32/50\n",
      "15462/15462 [==============================] - 8s 531us/sample - loss: 3.3864 - accuracy: 0.3232\n",
      "Epoch 33/50\n",
      "15462/15462 [==============================] - 8s 537us/sample - loss: 3.2954 - accuracy: 0.3414\n",
      "Epoch 34/50\n",
      "15462/15462 [==============================] - 8s 537us/sample - loss: 3.1929 - accuracy: 0.3673\n",
      "Epoch 35/50\n",
      "15462/15462 [==============================] - 8s 537us/sample - loss: 3.0825 - accuracy: 0.3910\n",
      "Epoch 36/50\n",
      "15462/15462 [==============================] - 8s 543us/sample - loss: 3.0010 - accuracy: 0.4063\n",
      "Epoch 37/50\n",
      "15462/15462 [==============================] - 8s 543us/sample - loss: 2.9151 - accuracy: 0.4260\n",
      "Epoch 38/50\n",
      "15462/15462 [==============================] - 8s 531us/sample - loss: 2.8400 - accuracy: 0.4440\n",
      "Epoch 39/50\n",
      "15462/15462 [==============================] - 8s 530us/sample - loss: 2.7552 - accuracy: 0.4556\n",
      "Epoch 40/50\n",
      "15462/15462 [==============================] - 8s 531us/sample - loss: 2.6803 - accuracy: 0.4776\n",
      "Epoch 41/50\n",
      "15462/15462 [==============================] - 8s 530us/sample - loss: 2.5876 - accuracy: 0.4957\n",
      "Epoch 42/50\n",
      "15462/15462 [==============================] - 8s 537us/sample - loss: 2.5184 - accuracy: 0.5122\n",
      "Epoch 43/50\n",
      "15462/15462 [==============================] - 8s 531us/sample - loss: 2.4614 - accuracy: 0.5265\n",
      "Epoch 44/50\n",
      "15462/15462 [==============================] - 8s 524us/sample - loss: 2.4069 - accuracy: 0.5363\n",
      "Epoch 45/50\n",
      "15462/15462 [==============================] - 8s 537us/sample - loss: 2.3456 - accuracy: 0.5523\n",
      "Epoch 46/50\n",
      "15462/15462 [==============================] - 8s 536us/sample - loss: 2.2771 - accuracy: 0.5676\n",
      "Epoch 47/50\n",
      "15462/15462 [==============================] - 8s 525us/sample - loss: 2.2201 - accuracy: 0.5774\n",
      "Epoch 48/50\n",
      "15462/15462 [==============================] - 8s 530us/sample - loss: 2.1785 - accuracy: 0.5896\n",
      "Epoch 49/50\n",
      "15462/15462 [==============================] - 8s 543us/sample - loss: 2.1341 - accuracy: 0.5971\n",
      "Epoch 50/50\n",
      "15462/15462 [==============================] - 8s 537us/sample - loss: 2.0846 - accuracy: 0.6077\n"
     ]
    }
   ],
   "source": [
    " history = model.fit(predictors, \n",
    "                     label, \n",
    "                     epochs=50, \n",
    "                     batch_size=128, \n",
    "                     verbose=1)"
   ]
  },
  {
   "cell_type": "code",
   "execution_count": 5,
   "metadata": {
    "colab": {},
    "colab_type": "code",
    "id": "1fXTEO3GJ282"
   },
   "outputs": [
    {
     "data": {
      "image/png": "[encoded data removed]",
      "text/plain": [
       "<Figure size 432x288 with 1 Axes>"
      ]
     },
     "metadata": {
      "needs_background": "light"
     },
     "output_type": "display_data"
    },
    {
     "data": {
      "image/png": "[encoded data removed]",
      "text/plain": [
       "<Figure size 432x288 with 1 Axes>"
      ]
     },
     "metadata": {
      "needs_background": "light"
     },
     "output_type": "display_data"
    }
   ],
   "source": [
    "%matplotlib inline\n",
    "import matplotlib.pyplot as plt\n",
    "acc = history.history['accuracy']\n",
    "loss = history.history['loss']\n",
    "\n",
    "epochs = range(len(acc))\n",
    "\n",
    "plt.plot(epochs, acc, 'b', label='Training accuracy')\n",
    "plt.title('Training accuracy')\n",
    "\n",
    "plt.figure()\n",
    "\n",
    "plt.plot(epochs, loss, 'b', label='Training Loss')\n",
    "plt.title('Training loss')\n",
    "plt.legend()\n",
    "\n",
    "plt.show()"
   ]
  },
  {
   "cell_type": "code",
   "execution_count": 6,
   "metadata": {
    "colab": {},
    "colab_type": "code",
    "id": "6Vc6PHgxa6Hm"
   },
   "outputs": [
    {
     "name": "stdout",
     "output_type": "stream",
     "text": [
      "Help me Obi Wan Kenobi, you're my only hope where i was belong done thee ' me near so report dote hence 'greeing slain room room hence ' hence hence ' hence hence may room room room room room room room room hence ' light light skill possession still me so thine untutor'd thine ' used near weep ' dumb near hence weep ' live so still you best was you you so thine ' foes old same thee so such men hence prove thine ' hence hence ' hence room room room hence room room room room room room hence ' live ' die thee so so thine\n"
     ]
    }
   ],
   "source": [
    "seed_text = \"Help me Obi Wan Kenobi, you're my only hope\"\n",
    "next_words = 100\n",
    "  \n",
    "for _ in range(next_words):\n",
    "\ttoken_list = tokenizer.texts_to_sequences([seed_text])[0]\n",
    "\ttoken_list = pad_sequences([token_list], maxlen=max_sequence_len-1, padding='pre')\n",
    "\tpredicted = model.predict_classes(token_list, verbose=0)\n",
    "\toutput_word = \"\"\n",
    "\tfor word, index in tokenizer.word_index.items():\n",
    "\t\tif index == predicted:\n",
    "\t\t\toutput_word = word\n",
    "\t\t\tbreak\n",
    "\tseed_text += \" \" + output_word\n",
    "print(seed_text)"
   ]
  },
  {
   "cell_type": "code",
   "execution_count": null,
   "metadata": {},
   "outputs": [],
   "source": [
    "# Now click the 'Submit Assignment' button above.\n",
    "# Once that is complete, please run the following two cells to save your work and close the notebook"
   ]
  },
  {
   "cell_type": "code",
   "execution_count": null,
   "metadata": {},
   "outputs": [],
   "source": [
    "%%javascript\n",
    "<!-- Save the notebook -->\n",
    "IPython.notebook.save_checkpoint();"
   ]
  },
  {
   "cell_type": "code",
   "execution_count": null,
   "metadata": {},
   "outputs": [],
   "source": [
    "%%javascript\n",
    "IPython.notebook.session.delete();\n",
    "window.onbeforeunload = null\n",
    "setTimeout(function() { window.close(); }, 1000);"
   ]
  }
 ],
 "metadata": {
  "accelerator": "GPU",
  "colab": {
   "name": "NLP-Week4-Exercise-Shakespeare-Question.ipynb",
   "provenance": []
  },
  "coursera": {
   "course_slug": "natural-language-processing-tensorflow",
   "graded_item_id": "zLi5k",
   "launcher_item_id": "qRKzU"
  },
  "kernelspec": {
   "display_name": "Python 3",
   "language": "python",
   "name": "python3"
  },
  "language_info": {
   "codemirror_mode": {
    "name": "ipython",
    "version": 3
   },
   "file_extension": ".py",
   "mimetype": "text/x-python",
   "name": "python",
   "nbconvert_exporter": "python",
   "pygments_lexer": "ipython3",
   "version": "3.6.8"
  }
 },
 "nbformat": 4,
 "nbformat_minor": 1
}
