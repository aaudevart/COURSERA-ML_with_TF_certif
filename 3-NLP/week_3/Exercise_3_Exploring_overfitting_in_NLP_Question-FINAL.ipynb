{
 "cells": [
  {
   "cell_type": "code",
   "execution_count": 2,
   "metadata": {
    "colab": {},
    "colab_type": "code",
    "id": "hmA6EzkQJ5jt"
   },
   "outputs": [],
   "source": [
    "# ATTENTION: Please do not alter any of the provided code in the exercise. Only add your own code where indicated\n",
    "# ATTENTION: Please do not add or remove any cells in the exercise. The grader will check specific cells based on the cell position.\n",
    "# ATTENTION: Please use the provided epoch values when training.\n",
    "\n",
    "import json\n",
    "import tensorflow as tf\n",
    "import csv\n",
    "import random\n",
    "import numpy as np\n",
    "\n",
    "from tensorflow.keras.preprocessing.text import Tokenizer\n",
    "from tensorflow.keras.preprocessing.sequence import pad_sequences\n",
    "from tensorflow.keras.utils import to_categorical\n",
    "from tensorflow.keras import regularizers\n",
    "from os import getcwd\n",
    "\n",
    "embedding_dim = 100\n",
    "max_length = 16\n",
    "trunc_type='post'\n",
    "padding_type='post'\n",
    "oov_tok = \"<OOV>\"\n",
    "training_size=160000 #Your dataset size here. Experiment using smaller values (i.e. 16000), but don't forget to train on at least 160000 to see the best effects\n",
    "test_portion=.1\n",
    "\n",
    "corpus = []\n"
   ]
  },
  {
   "cell_type": "code",
   "execution_count": 3,
   "metadata": {
    "colab": {},
    "colab_type": "code",
    "id": "bM0l_dORKqE0"
   },
   "outputs": [],
   "source": [
    "\n",
    "# Note that I cleaned the Stanford dataset to remove LATIN1 encoding to make it easier for Python CSV reader\n",
    "# You can do that yourself with:\n",
    "# iconv -f LATIN1 -t UTF8 training.1600000.processed.noemoticon.csv -o training_cleaned.csv\n",
    "\n",
    "path_training_cleaned = f\"{getcwd()}/../tmp2/training_cleaned.csv\"\n",
    "\n",
    "num_sentences = 0\n",
    "\n",
    "with open(path_training_cleaned) as csvfile:\n",
    "    reader = csv.reader(csvfile, delimiter=',')\n",
    "    \n",
    "    for row in reader:\n",
    "      # Your Code here. Create list items where the first item is the text, found in row[5], \n",
    "      # and the second is the label. Note that the label is a '0' or a '4' in the text. \n",
    "      # When it's the former, make\n",
    "      # your label to be 0, otherwise 1. Keep a count of the number of sentences in num_sentences\n",
    "        list_item=[]\n",
    "        # YOUR CODE HERE\n",
    "        if (row[0] == \"0\"):\n",
    "            list_item = [row[5], 0]\n",
    "        elif (row[0] == \"4\"):\n",
    "            list_item = [row[5], 1]\n",
    "        else:\n",
    "            print(row[0])\n",
    "        num_sentences = num_sentences + 1\n",
    "        corpus.append(list_item)\n",
    "\n",
    "\n"
   ]
  },
  {
   "cell_type": "code",
   "execution_count": 4,
   "metadata": {
    "colab": {},
    "colab_type": "code",
    "id": "3kxblBUjEUX-"
   },
   "outputs": [
    {
     "name": "stdout",
     "output_type": "stream",
     "text": [
      "1600000\n",
      "1600000\n",
      "[\"is upset that he can't update his Facebook by texting it... and might cry as a result  School today also. Blah!\", 0]\n"
     ]
    }
   ],
   "source": [
    "print(num_sentences)\n",
    "print(len(corpus))\n",
    "print(corpus[1])\n",
    "\n",
    "# Expected Output:\n",
    "# 1600000\n",
    "# 1600000\n",
    "# [\"is upset that he can't update his Facebook by texting it... and might cry as a result  School today also. Blah!\", 0]"
   ]
  },
  {
   "cell_type": "code",
   "execution_count": 5,
   "metadata": {
    "colab": {},
    "colab_type": "code",
    "id": "ohOGz24lsNAD"
   },
   "outputs": [],
   "source": [
    "sentences=[]\n",
    "labels=[]\n",
    "random.shuffle(corpus)\n",
    "for x in range(training_size):\n",
    "    sentences.append(corpus[x][0])# YOUR CODE HERE)\n",
    "    labels.append(corpus[x][1])# YOUR CODE HERE)\n",
    "\n",
    "\n",
    "tokenizer = Tokenizer()\n",
    "tokenizer.fit_on_texts(sentences)# YOUR CODE HERE)\n",
    "\n",
    "word_index = tokenizer.word_index\n",
    "vocab_size=len(word_index)# YOUR CODE HERE)\n",
    "\n",
    "sequences = tokenizer.texts_to_sequences(sentences) # YOUR CODE HERE)\n",
    "padded = pad_sequences(sequences, maxlen=max_length, padding=padding_type, truncating=trunc_type)# YOUR CODE HERE)\n",
    "\n",
    "split = int(test_portion * training_size)\n",
    "\n",
    "test_sequences = padded[0:split]# YOUR CODE HERE]\n",
    "training_sequences = padded[split:training_size]# YOUR CODE HERE]\n",
    "test_labels = labels[0:split]# YOUR CODE HERE]\n",
    "training_labels = labels[split:training_size]# YOUR CODE HERE]"
   ]
  },
  {
   "cell_type": "code",
   "execution_count": 6,
   "metadata": {
    "colab": {},
    "colab_type": "code",
    "id": "gIrtRem1En3N"
   },
   "outputs": [
    {
     "name": "stdout",
     "output_type": "stream",
     "text": [
      "138447\n",
      "1\n"
     ]
    }
   ],
   "source": [
    "print(vocab_size)\n",
    "print(word_index['i'])\n",
    "# Expected Output\n",
    "# 138858\n",
    "# 1"
   ]
  },
  {
   "cell_type": "code",
   "execution_count": 7,
   "metadata": {
    "colab": {},
    "colab_type": "code",
    "id": "C1zdgJkusRh0"
   },
   "outputs": [],
   "source": [
    "# Note this is the 100 dimension version of GloVe from Stanford\n",
    "path_glove = f\"{getcwd()}/../tmp2/glove.6B.100d.txt\"\n",
    "embeddings_index = {};\n",
    "with open(path_glove) as f:\n",
    "    for line in f:\n",
    "        values = line.split();\n",
    "        word = values[0];\n",
    "        coefs = np.asarray(values[1:], dtype='float32');\n",
    "        embeddings_index[word] = coefs;\n",
    "\n",
    "embeddings_matrix = np.zeros((vocab_size+1, embedding_dim));\n",
    "for word, i in word_index.items():\n",
    "    embedding_vector = embeddings_index.get(word);\n",
    "    if embedding_vector is not None:\n",
    "        embeddings_matrix[i] = embedding_vector;"
   ]
  },
  {
   "cell_type": "code",
   "execution_count": 8,
   "metadata": {
    "colab": {},
    "colab_type": "code",
    "id": "71NLk_lpFLNt"
   },
   "outputs": [
    {
     "name": "stdout",
     "output_type": "stream",
     "text": [
      "138448\n"
     ]
    }
   ],
   "source": [
    "print(len(embeddings_matrix))\n",
    "# Expected Output\n",
    "# 138859"
   ]
  },
  {
   "cell_type": "code",
   "execution_count": 17,
   "metadata": {
    "colab": {},
    "colab_type": "code",
    "id": "iKKvbuEBOGFz"
   },
   "outputs": [
    {
     "name": "stdout",
     "output_type": "stream",
     "text": [
      "Model: \"sequential_8\"\n",
      "_________________________________________________________________\n",
      "Layer (type)                 Output Shape              Param #   \n",
      "=================================================================\n",
      "embedding_8 (Embedding)      (None, 16, 100)           13844800  \n",
      "_________________________________________________________________\n",
      "dropout_1 (Dropout)          (None, 16, 100)           0         \n",
      "_________________________________________________________________\n",
      "conv1d_8 (Conv1D)            (None, 12, 64)            32064     \n",
      "_________________________________________________________________\n",
      "max_pooling1d_8 (MaxPooling1 (None, 3, 64)             0         \n",
      "_________________________________________________________________\n",
      "lstm_8 (LSTM)                (None, 64)                33024     \n",
      "_________________________________________________________________\n",
      "dense_8 (Dense)              (None, 1)                 65        \n",
      "=================================================================\n",
      "Total params: 13,909,953\n",
      "Trainable params: 65,153\n",
      "Non-trainable params: 13,844,800\n",
      "_________________________________________________________________\n",
      "Train on 144000 samples, validate on 16000 samples\n",
      "Epoch 1/15\n",
      "144000/144000 [==============================] - 142s 988us/sample - loss: 0.5774 - accuracy: 0.6911 - val_loss: 0.5391 - val_accuracy: 0.7274\n",
      "Epoch 2/15\n",
      "144000/144000 [==============================] - 139s 965us/sample - loss: 0.5316 - accuracy: 0.7279 - val_loss: 0.5216 - val_accuracy: 0.7381\n",
      "Epoch 3/15\n",
      "144000/144000 [==============================] - 140s 972us/sample - loss: 0.5142 - accuracy: 0.7405 - val_loss: 0.5184 - val_accuracy: 0.7436\n",
      "Epoch 4/15\n",
      "144000/144000 [==============================] - 139s 967us/sample - loss: 0.5029 - accuracy: 0.7491 - val_loss: 0.5159 - val_accuracy: 0.7432\n",
      "Epoch 5/15\n",
      "144000/144000 [==============================] - 140s 970us/sample - loss: 0.4943 - accuracy: 0.7551 - val_loss: 0.5133 - val_accuracy: 0.7429\n",
      "Epoch 6/15\n",
      "144000/144000 [==============================] - 139s 965us/sample - loss: 0.4874 - accuracy: 0.7598 - val_loss: 0.5067 - val_accuracy: 0.7517\n",
      "Epoch 7/15\n",
      "144000/144000 [==============================] - 140s 971us/sample - loss: 0.4819 - accuracy: 0.7636 - val_loss: 0.5093 - val_accuracy: 0.7464\n",
      "Epoch 8/15\n",
      "144000/144000 [==============================] - 139s 963us/sample - loss: 0.4774 - accuracy: 0.7656 - val_loss: 0.5043 - val_accuracy: 0.7506\n",
      "Epoch 9/15\n",
      "144000/144000 [==============================] - 142s 983us/sample - loss: 0.4707 - accuracy: 0.7706 - val_loss: 0.5045 - val_accuracy: 0.7531\n",
      "Epoch 10/15\n",
      "144000/144000 [==============================] - 139s 963us/sample - loss: 0.4673 - accuracy: 0.7730 - val_loss: 0.5071 - val_accuracy: 0.7517\n",
      "Epoch 11/15\n",
      "144000/144000 [==============================] - 138s 956us/sample - loss: 0.4638 - accuracy: 0.7737 - val_loss: 0.5054 - val_accuracy: 0.7521\n",
      "Epoch 12/15\n",
      "144000/144000 [==============================] - 138s 959us/sample - loss: 0.4606 - accuracy: 0.7754 - val_loss: 0.5034 - val_accuracy: 0.7533\n",
      "Epoch 13/15\n",
      "144000/144000 [==============================] - 143s 994us/sample - loss: 0.4568 - accuracy: 0.7795 - val_loss: 0.5058 - val_accuracy: 0.7509\n",
      "Epoch 14/15\n",
      "144000/144000 [==============================] - 139s 965us/sample - loss: 0.4541 - accuracy: 0.7809 - val_loss: 0.5065 - val_accuracy: 0.7489\n",
      "Epoch 15/15\n",
      "144000/144000 [==============================] - 147s 1ms/sample - loss: 0.4517 - accuracy: 0.7810 - val_loss: 0.5055 - val_accuracy: 0.7554\n",
      "Training Complete\n"
     ]
    }
   ],
   "source": [
    "model = tf.keras.Sequential([\n",
    "    tf.keras.layers.Embedding(vocab_size+1, embedding_dim, input_length=max_length, weights=[embeddings_matrix], trainable=False),\n",
    "    # YOUR CODE HERE - experiment with combining different types, such as convolutions and LSTMs\n",
    "    tf.keras.layers.Dropout(0.2),\n",
    "    tf.keras.layers.Conv1D(64, 5, activation='relu'),\n",
    "    tf.keras.layers.MaxPooling1D(pool_size=4),\n",
    "    tf.keras.layers.LSTM(64),\n",
    "    tf.keras.layers.Dense(1, activation='sigmoid')\n",
    "])\n",
    "model.compile(loss='binary_crossentropy',optimizer='adam',metrics=['accuracy'])# YOUR CODE HERE)\n",
    "model.summary()\n",
    "\n",
    "\n",
    "history = model.fit(training_sequences, \n",
    "                    np.array(training_labels), \n",
    "                    epochs=15,\n",
    "                    batch_size=128, \n",
    "                    validation_data=(test_sequences, np.array(test_labels)), \n",
    "                    verbose=1)\n",
    "\n",
    "print(\"Training Complete\")\n"
   ]
  },
  {
   "cell_type": "code",
   "execution_count": 18,
   "metadata": {
    "colab": {},
    "colab_type": "code",
    "id": "qxju4ItJKO8F"
   },
   "outputs": [
    {
     "data": {
      "text/plain": [
       "<Figure size 432x288 with 0 Axes>"
      ]
     },
     "execution_count": 18,
     "metadata": {},
     "output_type": "execute_result"
    },
    {
     "data": {
      "image/png": "[encoded data removed]",
      "text/plain": [
       "<Figure size 432x288 with 1 Axes>"
      ]
     },
     "metadata": {
      "needs_background": "light"
     },
     "output_type": "display_data"
    },
    {
     "data": {
      "image/png": "[encoded data removed]",
      "text/plain": [
       "<Figure size 432x288 with 1 Axes>"
      ]
     },
     "metadata": {
      "needs_background": "light"
     },
     "output_type": "display_data"
    },
    {
     "data": {
      "text/plain": [
       "<Figure size 432x288 with 0 Axes>"
      ]
     },
     "metadata": {},
     "output_type": "display_data"
    }
   ],
   "source": [
    "%matplotlib inline\n",
    "import matplotlib.image  as mpimg\n",
    "import matplotlib.pyplot as plt\n",
    "\n",
    "#-----------------------------------------------------------\n",
    "# Retrieve a list of list results on training and test data\n",
    "# sets for each training epoch\n",
    "#-----------------------------------------------------------\n",
    "acc=history.history['accuracy']\n",
    "val_acc=history.history['val_accuracy']\n",
    "loss=history.history['loss']\n",
    "val_loss=history.history['val_loss']\n",
    "\n",
    "epochs=range(len(acc)) # Get number of epochs\n",
    "\n",
    "#------------------------------------------------\n",
    "# Plot training and validation accuracy per epoch\n",
    "#------------------------------------------------\n",
    "plt.plot(epochs, acc, 'r')\n",
    "plt.plot(epochs, val_acc, 'b')\n",
    "plt.title('Training and validation accuracy')\n",
    "plt.xlabel(\"Epochs\")\n",
    "plt.ylabel(\"Accuracy\")\n",
    "plt.legend([\"Accuracy\", \"Validation Accuracy\"])\n",
    "\n",
    "plt.figure()\n",
    "\n",
    "#------------------------------------------------\n",
    "# Plot training and validation loss per epoch\n",
    "#------------------------------------------------\n",
    "plt.plot(epochs, loss, 'r')\n",
    "plt.plot(epochs, val_loss, 'b')\n",
    "plt.title('Training and validation loss')\n",
    "plt.xlabel(\"Epochs\")\n",
    "plt.ylabel(\"Loss\")\n",
    "plt.legend([\"Loss\", \"Validation Loss\"])\n",
    "\n",
    "plt.figure()"
   ]
  },
  {
   "cell_type": "code",
   "execution_count": 19,
   "metadata": {},
   "outputs": [],
   "source": [
    "# Now click the 'Submit Assignment' button above.\n",
    "# Once that is complete, please run the following two cells to save your work and close the notebook"
   ]
  },
  {
   "cell_type": "code",
   "execution_count": 20,
   "metadata": {},
   "outputs": [
    {
     "data": {
      "application/javascript": [
       "<!-- Save the notebook -->\n",
       "IPython.notebook.save_checkpoint();\n"
      ],
      "text/plain": [
       "<IPython.core.display.Javascript object>"
      ]
     },
     "metadata": {},
     "output_type": "display_data"
    }
   ],
   "source": [
    "%%javascript\n",
    "<!-- Save the notebook -->\n",
    "IPython.notebook.save_checkpoint();"
   ]
  },
  {
   "cell_type": "code",
   "execution_count": null,
   "metadata": {},
   "outputs": [],
   "source": [
    "%%javascript\n",
    "IPython.notebook.session.delete();\n",
    "window.onbeforeunload = null\n",
    "setTimeout(function() { window.close(); }, 1000);"
   ]
  }
 ],
 "metadata": {
  "accelerator": "GPU",
  "colab": {
   "name": "NLP Course - Week 3 Exercise Question.ipynb",
   "provenance": []
  },
  "coursera": {
   "course_slug": "natural-language-processing-tensorflow",
   "graded_item_id": "dtMI9",
   "launcher_item_id": "WQgnj"
  },
  "kernelspec": {
   "display_name": "Python 3",
   "language": "python",
   "name": "python3"
  },
  "language_info": {
   "codemirror_mode": {
    "name": "ipython",
    "version": 3
   },
   "file_extension": ".py",
   "mimetype": "text/x-python",
   "name": "python",
   "nbconvert_exporter": "python",
   "pygments_lexer": "ipython3",
   "version": "3.6.8"
  }
 },
 "nbformat": 4,
 "nbformat_minor": 1
}
